{
 "cells": [
  {
   "cell_type": "markdown",
   "metadata": {},
   "source": [
    "# C++ Notes from \n",
    "\n",
    "## 2019\n",
    "\n",
    "### Initialize a vector\n",
    "\n",
    "1. Initializing by one by one pushing values\n",
    "2. Specifying size and initializing all values\n",
    "3. Initializing like arrays\n",
    "4. Initializing from array\n",
    "5. Initializing from another vector"
   ]
  },
  {
   "cell_type": "code",
   "execution_count": 1,
   "metadata": {},
   "outputs": [
    {
     "name": "stdout",
     "output_type": "stream",
     "text": [
      "10 20 \n",
      "10 10 10 \n",
      "10 20 30 \n",
      "10 20 40 \n",
      "10 20 40 "
     ]
    }
   ],
   "source": [
    "// CPP program to create an empty vector \n",
    "// and one by one push values. \n",
    "#include <iostream>\n",
    "#include <vector> \n",
    "using namespace std; \n",
    "\n",
    "// Create an empty vector \n",
    "vector<int> vect;  \n",
    "    \n",
    "// method 1: \n",
    "vect.push_back(10);\n",
    "vect.push_back(20); \n",
    "    \n",
    "// Create a vector of size n with \n",
    "// all values as 10. \n",
    "vector<int> vect2(3, 10); \n",
    "    \n",
    "vector<int> vect3{ 10, 20, 30 };\n",
    "    \n",
    "int arr[] = { 10, 20, 40 }; \n",
    "int n = sizeof(arr) / sizeof(arr[0]); \n",
    "  \n",
    "vector<int> vect4(arr, arr + n);\n",
    "    \n",
    "vector<int> vect5(vect4.begin(), vect4.end());\n",
    "\n",
    "for (int x : vect) \n",
    "    cout << x << \" \";\n",
    "cout << endl;\n",
    "for (int x : vect2) \n",
    "    cout << x << \" \";\n",
    "cout << endl;\n",
    "for (int x : vect3) \n",
    "    cout << x << \" \";\n",
    "cout << endl;\n",
    "for (int x : vect4) \n",
    "    cout << x << \" \";\n",
    "cout << endl;\n",
    "for (int x : vect5) \n",
    "    cout << x << \" \";"
   ]
  },
  {
   "cell_type": "markdown",
   "metadata": {},
   "source": [
    "### Update `std::map` using `std::find` method"
   ]
  },
  {
   "cell_type": "code",
   "execution_count": 2,
   "metadata": {},
   "outputs": [
    {
     "name": "stdout",
     "output_type": "stream",
     "text": [
      "c::42\n"
     ]
    }
   ],
   "source": [
    "std::map<char, int> m;\n",
    "m.insert(std::make_pair('c', 0));  // c is for cookie\n",
    "\n",
    "std::map<char, int>::iterator it = m.find('c'); \n",
    "if (it != m.end())\n",
    "    it->second = 42;\n",
    "\n",
    "for (std::pair<char, int> elem : m)\n",
    "    cout << elem.first << \"::\" << elem.second << endl;"
   ]
  },
  {
   "cell_type": "code",
   "execution_count": null,
   "metadata": {},
   "outputs": [],
   "source": [
    "#include <iostream>\n",
    "#include <vector> \n",
    "using namespace std; \n",
    "\n",
    "// Create an empty vector \n",
    "vector<int> vect;  \n",
    "vect = { 10, 20, 30 };\n",
    "cout << \"test\" << endl;\n",
    "for (int x : vect) \n",
    "    cout << x << \" \";"
   ]
  },
  {
   "cell_type": "markdown",
   "metadata": {},
   "source": []
  }
 ],
 "metadata": {
  "kernelspec": {
   "display_name": "C++11",
   "language": "C++11",
   "name": "xeus-cling-cpp11"
  },
  "language_info": {
   "codemirror_mode": "text/x-c++src",
   "file_extension": ".cpp",
   "mimetype": "text/x-c++src",
   "name": "c++",
   "version": "-std=c++11"
  }
 },
 "nbformat": 4,
 "nbformat_minor": 2
}
