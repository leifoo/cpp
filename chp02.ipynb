{
 "cells": [
  {
   "cell_type": "markdown",
   "metadata": {},
   "source": [
    "## Setting Out to C++\n",
    "\n",
    "### C++ Initiation\n",
    "\n",
    "A simple C++ program that displays a message. Listing 2.1 uses the C++ `cout` (pronounced \"see-out\") facility to produce character output."
   ]
  },
  {
   "cell_type": "code",
   "execution_count": null,
   "metadata": {},
   "outputs": [],
   "source": [
    "// myfirst.cpp -- displays a message\n",
    "\n",
    "#include <iostream>                          // a PREPROCESSOR directive\n",
    "int main()                                   // function header\n",
    "{                                            // start of function body\n",
    "    using namespace std;                     // make definitions visible\n",
    "    cout << \"Come up and C++ me some time.\"; // message\n",
    "    cout << endl;                            // start a new line\n",
    "    cout << \"You won’t regret it!\" << endl;  // more output\n",
    "    return 0;                                // terminate main()\n",
    "}                                            // end of function body"
   ]
  }
 ],
 "metadata": {
  "kernelspec": {
   "display_name": "C++11",
   "language": "C++11",
   "name": "xeus-cling-cpp11"
  },
  "language_info": {
   "codemirror_mode": "text/x-c++src",
   "file_extension": ".cpp",
   "mimetype": "text/x-c++src",
   "name": "c++",
   "version": "-std=c++11"
  }
 },
 "nbformat": 4,
 "nbformat_minor": 2
}
