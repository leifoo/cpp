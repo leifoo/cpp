{
 "cells": [
  {
   "cell_type": "markdown",
   "metadata": {},
   "source": [
    "C++ Primer Plus 6th Edition\n",
    "\n",
    "# Introduction\n",
    "\n",
    "Learning C++ is an adventure of discovery, particularly because the language accommodates several programming paradigms, including <font color=blue>object-oriented programming</font>, <font color=blue>generic programming</font>, and the <font color=blue>traditional procedural programming</font>. Many features C++ has added to C, including the following:\n",
    "- Classes and objects\n",
    "- Inheritance\n",
    "- Polymorphism, virtual functions, and runtime type identification (RTTI)\n",
    "- Function overloading\n",
    "- Reference variables\n",
    "- Generic, or type-independent, programming, as provided by templates and the Standard Template Library (STL)\n",
    "- The exception mechanism for handling error conditions\n",
    "- Namespaces for managing names of functions, classes, and variables\n",
    "\n",
    "## The Primer Approach\n",
    "\n",
    "Philosophy:\n",
    "- A primer should be an easy-to-use, friendly guide. \n",
    "- A primer doesn't assume that you are already familiar with all relevant programming concepts.\n",
    "- A primer emphasizes hands-on learning with brief, easily typed examples that develop your understanding, a concept or two at a time.\n",
    "- A primer clarifies concepts with illustrations.\n",
    "- A primer provides questions and exercises to let you test your understanding, making the book suitable for self-learning or for the classroom.\n",
    "\n",
    "## Sample Code Used in This Book\n",
    "\n",
    "## How This Book Is Organized\n",
    "\n",
    "## Note to Instructors\n",
    "\n",
    "## Conventions Used in This Book\n",
    " - Code lines, commands, statements, variables, filenames, and program output appear in a `computer typeface`:"
   ]
  },
  {
   "cell_type": "code",
   "execution_count": 9,
   "metadata": {},
   "outputs": [
    {
     "name": "stdout",
     "output_type": "stream",
     "text": [
      "What’s up, Doc!\n"
     ]
    }
   ],
   "source": [
    "#include <iostream>\n",
    "// int main() {}\n",
    "using namespace std;\n",
    "cout << \"What’s up, Doc!\\n\";\n",
    "return 0;"
   ]
  },
  {
   "cell_type": "markdown",
   "metadata": {},
   "source": [
    " - Program input that you should type appears in __bold computer typeface__:\n",
    "\n",
    "Please enter your name:\n",
    "<br>\n",
    "__Plato__\n",
    "\n",
    "- Placeholders in syntax descriptions appear in an _italic computer typeface_.You should replace a placeholder with the actual filename, parameter, or whatever element it represents.\n",
    "\n",
    "- _Italic type_ is used for new terms."
   ]
  }
 ],
 "metadata": {
  "kernelspec": {
   "display_name": "C++17",
   "language": "C++17",
   "name": "xeus-cling-cpp17"
  },
  "language_info": {
   "codemirror_mode": "text/x-c++src",
   "file_extension": ".cpp",
   "mimetype": "text/x-c++src",
   "name": "c++",
   "version": "-std=c++17"
  }
 },
 "nbformat": 4,
 "nbformat_minor": 2
}
