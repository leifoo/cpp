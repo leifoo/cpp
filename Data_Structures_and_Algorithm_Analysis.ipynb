{
 "cells": [
  {
   "cell_type": "markdown",
   "metadata": {},
   "source": [
    "# Data Structures and Algorithm Analysis in C++ by Mark Allen Weiss\n",
    "***\n",
    "## Chapter 1: Programming: A General Overview\n",
    "\n",
    "### 1.1 What's This Book About?\n",
    "\n",
    "### 1.2 Mathematics Review\n",
    "\n",
    "### 1.3 A Brief Introduction to Recursion\n",
    "\n",
    "First two fundamental rules of recursion:\n",
    "1. _Base cases_. You must always have some base cases, which can be solved without recursion.\n",
    "2. _Making progress_. For the cases that are to be solved recursively, the recursive call must always be to a case that makes progress toward a base case.\n",
    "3. _Design rule_. Assume that all the recursive calls work.\n",
    "4. _Compound interest rule_. Never duplicate work by solving the same instance of a problem in separate recursive calls.\n",
    "\n",
    "The main problem with recursion is the hidden bookkeeping costs. \n",
    "\n",
    "### 1.4 C++ Classes\n",
    "\n",
    "All of the data structures will be objects that store data (usually a collection of identically typed items) and will provide functions that manipulate the collection.\n",
    "\n",
    "#### 1.4.1 Basic `class` Syntax\n",
    "\n",
    "Class consists of its __members__ and __member functions (methods)__.\n",
    "\n",
    "Each instance of a class is an _object_.\n",
    "\n",
    "Information hiding: `public`, `private`\n",
    "\n",
    "In a class, all members are `private` by default, so the initial `public` is not optional.\n",
    "\n",
    "`constructor`\n",
    "\n",
    "#### 1.4.2 Extra Constructor Syntax and Accessors\n",
    "\n",
    "##### Default Parameters\n",
    "\n",
    "##### Initialization List\n",
    "\n",
    "List initialization does not allow narrowing\n",
    "- An integer cannot be converted to another integer that cannot hold its value. For example, char to int is allowed, but not int to char.\n",
    "- A floating-point value cannot be converted to another floating-point type that cannot hold its value. For example, float to double is allowed, but not double to float.\n",
    "- A floating-point value cannot be converted to an integer type.\n",
    "- An integer value cannot be converted to a floating-point type.\n",
    "\n",
    "The only situation where = is preferred over {} is when using `auto` keyword to get the type determined by the initializer.\n",
    "\n",
    "##### `explicit` Constructor\n",
    "\n",
    "You should make all one-parameter constructors `explicit` to avoid behind-the-scenes type conversions. \n",
    "\n",
    "Normally, a one-parameter constructor defines an __implicit type conversion__, in which a temporary object is created that makes an assignment (or parameter to a function) compatible.\n",
    "\n",
    "##### Constant Member Function\n",
    "\n",
    "__Accessor__: a member function that examines but does not change the state of its object.\n",
    "\n",
    "__Mutator__: a member function that changes the state.\n",
    "\n",
    "By default, all member functions are mutators. To make a member function an accessor, we must add the keyword `const` after the closing parenthesis that ends the parameter type list."
   ]
  },
  {
   "cell_type": "code",
   "execution_count": 2,
   "metadata": {},
   "outputs": [],
   "source": [
    "/**\n",
    "* A class for simulating an integer memory cell.\n",
    "*/\n",
    "class IntCell\n",
    "{\n",
    "    public:\n",
    "        explicit IntCell( int initialValue = 0 )\n",
    "            : storedValue{ initialValue } { }\n",
    "        int read( ) const\n",
    "            { return storedValue; }\n",
    "        void write( int x )\n",
    "            { storedValue = x; }\n",
    "    private:\n",
    "        int storedValue;\n",
    "};"
   ]
  },
  {
   "cell_type": "markdown",
   "metadata": {},
   "source": [
    "#### 1.4.3 Separation of Interface and Implementation\n",
    "\n",
    "##### Preprocessor Commands\n",
    "\n",
    "##### Scope Resolution Operator\n",
    "The syntax is `ClassName::member`. \n",
    "The `::` is called the __scope resolution operator__.\n",
    "\n",
    "##### Signatures Must Match Exactly\n",
    "Note that default parameters are specified in the interface only. They are omitted in the implementation.\n",
    "\n",
    "##### Objects Are Declared Like Primitive Types\n",
    ">`IntCell obj1;       // Zero parameter constructor, same as before`\n",
    "<br>\n",
    ">`IntCell obj2{ 12 }; // One parameter constructor, same as before`\n",
    "<br>\n",
    ">`IntCell obj4{ };    // Zero parameter constructor`"
   ]
  },
  {
   "cell_type": "code",
   "execution_count": 3,
   "metadata": {},
   "outputs": [
    {
     "name": "stderr",
     "output_type": "stream",
     "text": [
      "\u001b[1minput_line_9:6:7: \u001b[0m\u001b[0;1;31merror: \u001b[0m\u001b[1mredefinition of 'IntCell'\u001b[0m\n",
      "class IntCell\n",
      "\u001b[0;1;32m      ^\n",
      "\u001b[0m\u001b[1minput_line_8:4:7: \u001b[0m\u001b[0;1;30mnote: \u001b[0mprevious definition is here\u001b[0m\n",
      "class IntCell\n",
      "\u001b[0;1;32m      ^\n",
      "\u001b[0m"
     ]
    },
    {
     "ename": "Interpreter Error",
     "evalue": "",
     "output_type": "error",
     "traceback": [
      "Interpreter Error: "
     ]
    }
   ],
   "source": [
    "#ifndef IntCell_H\n",
    "#define IntCell_H\n",
    "\n",
    "/**\n",
    "* A class for simulating an integer memory cell.\n",
    "*/\n",
    "class IntCell\n",
    "{\n",
    "    public:\n",
    "        explicit IntCell( int initialValue = 0 );\n",
    "        int read( ) const;\n",
    "        void write( int x );\n",
    "\n",
    "    private:\n",
    "        int storedValue;\n",
    "};\n",
    "\n",
    "#endif"
   ]
  },
  {
   "cell_type": "code",
   "execution_count": 4,
   "metadata": {},
   "outputs": [
    {
     "name": "stderr",
     "output_type": "stream",
     "text": [
      "\u001b[1minput_line_10:1:11: \u001b[0m\u001b[0;1;31mfatal error: \u001b[0m\u001b[1m'IntCell.h' file not found\u001b[0m\n",
      " #include \"IntCell.h\"\n",
      "\u001b[0;1;32m          ^~~~~~~~~~~\n",
      "\u001b[0m"
     ]
    },
    {
     "ename": "Interpreter Error",
     "evalue": "",
     "output_type": "error",
     "traceback": [
      "Interpreter Error: "
     ]
    }
   ],
   "source": [
    " #include \"IntCell.h\"\n",
    "\n",
    "/**\n",
    "* Construct the IntCell with initialValue\n",
    "*/\n",
    "IntCell::IntCell( int initialValue ) : storedValue{ initialValue }\n",
    "{\n",
    "}\n",
    "\n",
    "/**\n",
    "* Return the stored value.\n",
    "*/\n",
    "int IntCell::read( ) const\n",
    "{\n",
    "    return storedValue;\n",
    "}\n",
    "\n",
    "/**\n",
    "* Store x.\n",
    "*/\n",
    "void IntCell::write( int x )\n",
    "{\n",
    "    storedValue = x;\n",
    "}"
   ]
  },
  {
   "cell_type": "code",
   "execution_count": 5,
   "metadata": {},
   "outputs": [
    {
     "name": "stderr",
     "output_type": "stream",
     "text": [
      "\u001b[1minput_line_11:2:10: \u001b[0m\u001b[0;1;31mfatal error: \u001b[0m\u001b[1m'IntCell.h' file not found\u001b[0m\n",
      "#include \"IntCell.h\"\n",
      "\u001b[0;1;32m         ^~~~~~~~~~~\n",
      "\u001b[0m"
     ]
    },
    {
     "ename": "Interpreter Error",
     "evalue": "",
     "output_type": "error",
     "traceback": [
      "Interpreter Error: "
     ]
    }
   ],
   "source": [
    "#include <iostream>\n",
    "#include \"IntCell.h\"\n",
    "using namespace std;\n",
    "\n",
    "int main( )\n",
    "{\n",
    "    IntCell m;\n",
    "\n",
    "    m.write( 5 );\n",
    "    cout << \"Cell contents: \" << m.read( ) << endl;\n",
    "\n",
    "    return 0;\n",
    "}"
   ]
  },
  {
   "cell_type": "markdown",
   "metadata": {},
   "source": [
    "#### 1.4.4 `vector` and `string`\n",
    "\n",
    "The `vector` and `string` classes in the STL treat arrays and strings as first-class objects. A `vector` knows how large it is. Two string objects can be compared with `==`, `<`, and so on. Both `vector` and `string` can be copied with `=`. If possible, you should avoid using the built-in C++ array and string.\n",
    "\n",
    "A `vector` of size 1 with a single element 12 in position 0:\n",
    ">`vector<int> daysInMonth { 12 };`\n",
    "\n",
    "A vector of size 12:\n",
    ">`vector<int> daysInMonth( 12 );`\n",
    "\n",
    "`string` has all the relational and equality operators to compare the states of two strings. It also has a `length` method."
   ]
  },
  {
   "cell_type": "code",
   "execution_count": 1,
   "metadata": {},
   "outputs": [
    {
     "name": "stderr",
     "output_type": "stream",
     "text": [
      "\u001b[1minput_line_8:4:1: \u001b[0m\u001b[0;1;31merror: \u001b[0m\u001b[1mfunction definition is not allowed here\u001b[0m\n",
      "{\n",
      "\u001b[0;1;32m^\n",
      "\u001b[0m"
     ]
    },
    {
     "ename": "Interpreter Error",
     "evalue": "",
     "output_type": "error",
     "traceback": [
      "Interpreter Error: "
     ]
    }
   ],
   "source": [
    "#include <iostream>\n",
    "#include <vector>\n",
    "using namespace std;\n",
    "\n",
    "int main( )\n",
    "{\n",
    "    vector<int> squares( 100 );\n",
    "\n",
    "    for( int i = 0; i < squares.size( ); ++i )\n",
    "        squares[ i ] = i * i;\n",
    "\n",
    "    for( int i = 0; i < squares.size( ); ++i )\n",
    "        cout << i << \" \" << squares[ i ] << endl;\n",
    "\n",
    "    return 0;\n",
    "}"
   ]
  },
  {
   "cell_type": "markdown",
   "metadata": {},
   "source": [
    "The pattern of accessing every element sequentially in a collection such as an `array` or a `vector`.  The range `for` loop as shown so far allows only the viewing of items."
   ]
  },
  {
   "cell_type": "code",
   "execution_count": 7,
   "metadata": {},
   "outputs": [
    {
     "name": "stderr",
     "output_type": "stream",
     "text": [
      "\u001b[1minput_line_14:3:15: \u001b[0m\u001b[0;1;31merror: \u001b[0m\u001b[1muse of undeclared identifier 'squares'\u001b[0m\n",
      "for( auto x : squares )\n",
      "\u001b[0;1;32m              ^\n",
      "\u001b[0m"
     ]
    },
    {
     "ename": "Interpreter Error",
     "evalue": "",
     "output_type": "error",
     "traceback": [
      "Interpreter Error: "
     ]
    }
   ],
   "source": [
    "int sum = 0;\n",
    "for( auto x : squares )\n",
    "    sum += x;"
   ]
  },
  {
   "cell_type": "markdown",
   "metadata": {},
   "source": [
    "### 1.5 C++ Details\n",
    "\n",
    "#### 1.5.1 Pointers\n",
    "\n",
    "A __pointer variable__ is a variable that stores the address where another object resides.\n",
    "\n",
    "##### Declaration\n",
    "\n",
    "Line 3 illustrates the declaration of `m`. The `*` indicates that `m` is a pointer variable; it is allowed to point at an `IntCell` object. The value of `m` is the address of the object that it points at. `m` is uninitialized at this point. In C++, no such check is performed to verify that `m` is assigned a value prior to being used. The use of uninitialized pointers typically crashes programs, because they result in access of memory locations that do not exist. In general, it is a good idea to provide an initial value, either by combining lines 3 and 5, or by initializing `m` to the `nullptr` pointer.\n",
    "\n",
    "##### Dynamic Object Creation\n",
    "Line 5 illustrates how objects can be created dynamically. In C++ `new` returns a pointer to the newly created object. In C++ there are several ways to create an object using its zero-parameter constructor. \n",
    "\n",
    ">`m = new IntCell( );   // OK`\n",
    "<br>\n",
    ">`m = new IntCell{ };   // C++11`\n",
    "<br>\n",
    ">`m = new IntCell;      // Preferred in this text`\n",
    "\n",
    "##### Garbage Collection and delete\n",
    "When an object that is allocated by `new` is no longer referenced, the `delete` operation must be applied to the object (through a pointer). Otherwise, the memory that it consumes is lost (until the program terminates). This is known as a __memory leak__. One important rule is to not use `new` when an __automatic variable__ can be used instead. \n",
    "\n",
    "##### Assignment and Comparison of Pointers\n",
    "\n",
    "##### Accessing Members of an Object through a Pointer\n",
    "\n",
    "##### Address-of Operator (&)\n"
   ]
  },
  {
   "cell_type": "code",
   "execution_count": null,
   "metadata": {},
   "outputs": [],
   "source": [
    "int main( )\n",
    "{\n",
    "    IntCell *m;\n",
    "\n",
    "    m = new IntCell{ 0 };\n",
    "    m->write( 5 );\n",
    "    cout << \"Cell contents: \" << m->read( ) << endl;\n",
    "\n",
    "    delete m;\n",
    "    return 0;\n",
    "}"
   ]
  },
  {
   "cell_type": "markdown",
   "metadata": {},
   "source": [
    "#### 1.5.2 Lvalues, Rvalues, and References\n",
    "\n",
    "In addition to pointer types, C++ defines reference types. One of the major changes in\n",
    "C++11 is the creation of a new reference type, known as an rvalue reference. \n",
    "\n",
    "An __lvalue__ is an expression that identifies a non-temporary object. \n",
    "<br>\n",
    "An __rvalue__ is an expression that identifies a temporary object or is a value (such as a literal constant) not associated with any object.\n",
    "\n",
    "\n"
   ]
  },
  {
   "cell_type": "code",
   "execution_count": null,
   "metadata": {},
   "outputs": [],
   "source": [
    "vector<string> arr( 3 );\n",
    "const int x = 2;\n",
    "int y;\n",
    "...\n",
    "int z = x + y;\n",
    "string str = \"foo\";\n",
    "vector<string> *ptr = &arr;"
   ]
  },
  {
   "cell_type": "markdown",
   "metadata": {},
   "source": [
    "With these declarations, `arr, str, arr[x], &x, y, z, ptr, *ptr, (*ptr)[x]` are all lvalues. Additionally, x is also an lvalue, although it is not a modifiable lvalue. As a general rule, if you have a name for a variable, it is an lvalue, regardless of whether it is modifiable.\n",
    "\n",
    "For the above declarations `2, \"foo\", x+y, str.substr(0,1)` are all rvalues.\n",
    "\n",
    "A reference type allows us to define a new name for an existing value. In classic C++, a reference can generally only be a name for an lvalue. However, in C++11, we can have two types of references: lvalue references and rvalue references.\n",
    "\n",
    "In C++11, an __lvalue reference__ is declared by placing an & after some type. An lvalue reference then becomes a synonym (i.e., another name) for the object it references."
   ]
  },
  {
   "cell_type": "code",
   "execution_count": null,
   "metadata": {},
   "outputs": [],
   "source": [
    "string str = \"hell\";\n",
    "string & rstr = str;               // rstr is another name for str\n",
    "rstr += ’o’;                       // changes str to \"hello\"\n",
    "bool cond = (&str == &rstr);       // true; str and rstr are same object\n",
    "string & bad1 = \"hello\";           // illegal: \"hello\" is not a modifiable lvalue\n",
    "string & bad2 = str + \"\";          // illegal: str+\"\" is not an lvalue\n",
    "string & sub = str.substr( 0, 4 ); // illegal: str.substr( 0, 4 ) is not an lvalue"
   ]
  },
  {
   "cell_type": "markdown",
   "metadata": {},
   "source": [
    "In C++11, an __rvalue reference__ is declared by placing an && after some type. An rvalue reference has the same characteristics as an lvalue reference except that, unlike an lvalue reference, an rvalue reference can also reference an rvalue (i.e., a temporary). "
   ]
  },
  {
   "cell_type": "code",
   "execution_count": null,
   "metadata": {},
   "outputs": [],
   "source": [
    "string str = \"hell\";\n",
    "string && bad1 = \"hello\";           // Legal\n",
    "string && bad2 = str + \"\";          // Legal\n",
    "string && sub = str.substr( 0, 4 ); // Legal"
   ]
  },
  {
   "cell_type": "markdown",
   "metadata": {},
   "source": [
    "##### lvalue references use #1: aliasing complicated names\n"
   ]
  },
  {
   "cell_type": "code",
   "execution_count": null,
   "metadata": {},
   "outputs": [],
   "source": [
    "auto & whichList = theLists[ myhash( x, theLists.size( ) ) ];\n",
    "if( find( begin( whichList ), end( whichList ), x ) != end( whichList ) )\n",
    "    return false;\n",
    "whichList.push_back( x );"
   ]
  },
  {
   "cell_type": "code",
   "execution_count": null,
   "metadata": {},
   "outputs": [],
   "source": [
    "auto whichList = theLists[ myhash( x, theLists.size( ) ) ];"
   ]
  },
  {
   "cell_type": "markdown",
   "metadata": {},
   "source": [
    "This would not work; it would create a copy, and then the push_back operation on the last line would be applied to the copy, not the original.\n",
    "\n",
    "##### lvalue references use #2: range `for` loops\n",
    "\n",
    "`x` assumes a copy of each value in the `vector`:"
   ]
  },
  {
   "cell_type": "code",
   "execution_count": null,
   "metadata": {},
   "outputs": [],
   "source": [
    "for( auto x : arr ) // broken\n",
    "    ++x;"
   ]
  },
  {
   "cell_type": "markdown",
   "metadata": {},
   "source": [
    "What we really want is for `x` to be another name for each value in the `vector`, which is easy to do if `x` is a reference:"
   ]
  },
  {
   "cell_type": "code",
   "execution_count": null,
   "metadata": {},
   "outputs": [],
   "source": [
    "for( auto & x : arr ) // works\n",
    "    ++x;"
   ]
  },
  {
   "cell_type": "markdown",
   "metadata": {},
   "source": [
    "##### lvalue references use #3: avoiding a copy\n",
    "\n",
    ">`auto & x = findMax( arr );`\n",
    "\n",
    "1. Reference variables are often used to avoid copying objects across function-call boundaries (either in the function call or the function return).\n",
    "2. Syntax is needed in function declarations and returns to enable the passing and returning using references instead of copies.\n",
    "\n",
    "#### 1.5.3 Parameter Passing\n",
    "\n",
    "Many languages, C and Java included, pass all parameters using __call-by-value__: the actual argument is copied into the formal parameter. However, parameters in C++ could be large complex objects for which copying is inefficient. Additionally, sometimes it is desirable to be able to alter the value being passed in. As a result of this, C++ has historically had three different ways to pass parameters, and C++11 has added a fourth."
   ]
  },
  {
   "cell_type": "code",
   "execution_count": null,
   "metadata": {},
   "outputs": [],
   "source": [
    "double average( double a, double b );    // returns average of a and b\n",
    "void swap( double a, double b );         // swaps a and b; wrong parameter types\n",
    "string randomItem( vector<string> arr ); // returns a random item in arr; inefficient"
   ]
  },
  {
   "cell_type": "markdown",
   "metadata": {},
   "source": [
    "1. Call-by-value. Presuming that x and y are local variables inaccessible to average, it is guaranteed that when average returns, x and y are unchanged, which is a very desirable property.\n",
    "2. Call-by-value guarantees that regardless of how swap is implemented, `x` and `y` will remain unchanged. What we need instead is to declare that a and b are references. With this signature, `a` is a synonym for `x`, and `b` is a synonym for `y`. Changes to `a` and `b` in the implementation of swap are thus changes to `x` and `y`. This form of parameter passing has always been known as __call-by-reference__ in C++. In C++11, this is more technically __call-by-lvalue-reference__."
   ]
  },
  {
   "cell_type": "code",
   "execution_count": null,
   "metadata": {},
   "outputs": [],
   "source": [
    "void swap( double & a, double & b ); // swaps a and b; correct parameter types"
   ]
  },
  {
   "cell_type": "markdown",
   "metadata": {},
   "source": [
    "\n",
    "3. Using call-by-value as the parameter-passing mechanism forces the copy of the `vector vec` in the call `randomItem(vec)`.  Thus, we can avoid the copy but achieve the same semantics by declaring that arr is a constant reference to `vec`; as a result, arr is a synonym for `vec`, with no copy, but since it is a `const`, it cannot be modified. This essentially provides the same viewable behavior as call-by-value. This form of parameter passing is known as __call-by-reference-to-a-constant__ in C++, but as that is overly verbose and the `const` precedes the `&`, it is also known by the simpler terminology of __call-by-constant reference__."
   ]
  },
  {
   "cell_type": "code",
   "execution_count": null,
   "metadata": {},
   "outputs": [],
   "source": [
    "string randomItem( const vector<string> & arr ); // returns a random item in arr"
   ]
  },
  {
   "cell_type": "markdown",
   "metadata": {},
   "source": [
    "The parameter-passing mechanism for C++ prior to C++11:\n",
    "1. Call-by-value is appropriate for small objects that should not be altered by the function.\n",
    "2. Call-by-constant-reference is appropriate for large objects that should not be altered by the function and are expensive to copy.\n",
    "3. Call-by-reference is appropriate for all objects that may be altered by the function.\n",
    "\n",
    "4. __Call-by-rvalue-reference__. The central concept is that since an rvalue stores a temporary that is about to be destroyed, an expression such as `x=rval` (where `rval` is an rvalue) can be implemented by a move instead of a copy; often moving an object's state is much easier than copying it, as it may involve just a simple pointer change. What we see here is that `x=y` can be a copy if y is an lvalue, but a move if y is an rvalue. This gives a primary use case of overloading a function based on whether a parameter is an lvalue or rvalue, such as:"
   ]
  },
  {
   "cell_type": "code",
   "execution_count": 8,
   "metadata": {
    "scrolled": true
   },
   "outputs": [
    {
     "name": "stderr",
     "output_type": "stream",
     "text": [
      "\u001b[1minput_line_15:2:2: \u001b[0m\u001b[0;1;31merror: \u001b[0m\u001b[1munknown type name 'string'; did you mean 'std::string'?\u001b[0m\n",
      " string randomItem( const vector<string> & arr );    // returns random item in lvalue arr\n",
      "\u001b[0;1;32m ^~~~~~\n",
      "\u001b[0m\u001b[0;32m std::string\n",
      "\u001b[0m\u001b[1m/usr/include/c++/7/bits/stringfwd.h:74:33: \u001b[0m\u001b[0;1;30mnote: \u001b[0m'std::string' declared here\u001b[0m\n",
      "  typedef basic_string<char>    string;   \n",
      "\u001b[0;1;32m                                ^\n",
      "\u001b[0m\u001b[1minput_line_15:2:27: \u001b[0m\u001b[0;1;31merror: \u001b[0m\u001b[1mno template named 'vector'; did you mean 'std::vector'?\u001b[0m\n",
      " string randomItem( const vector<string> & arr );    // returns random item in lvalue arr\n",
      "\u001b[0;1;32m                          ^~~~~~\n",
      "\u001b[0m\u001b[0;32m                          std::vector\n",
      "\u001b[0m\u001b[1m/usr/include/c++/7/bits/stl_vector.h:216:11: \u001b[0m\u001b[0;1;30mnote: \u001b[0m'std::vector' declared here\u001b[0m\n",
      "    class vector : protected _Vector_base<_Tp, _Alloc>\n",
      "\u001b[0;1;32m          ^\n",
      "\u001b[0m\u001b[1minput_line_15:2:34: \u001b[0m\u001b[0;1;31merror: \u001b[0m\u001b[1munknown type name 'string'; did you mean 'std::string'?\u001b[0m\n",
      " string randomItem( const vector<string> & arr );    // returns random item in lvalue arr\n",
      "\u001b[0;1;32m                                 ^~~~~~\n",
      "\u001b[0m\u001b[0;32m                                 std::string\n",
      "\u001b[0m\u001b[1m/usr/include/c++/7/bits/stringfwd.h:74:33: \u001b[0m\u001b[0;1;30mnote: \u001b[0m'std::string' declared here\u001b[0m\n",
      "  typedef basic_string<char>    string;   \n",
      "\u001b[0;1;32m                                ^\n",
      "\u001b[0m\u001b[1minput_line_15:3:1: \u001b[0m\u001b[0;1;31merror: \u001b[0m\u001b[1munknown type name 'string'; did you mean 'std::string'?\u001b[0m\n",
      "string randomItem( vector<string> && arr );         // returns random item in rvalue arr\n",
      "\u001b[0;1;32m^~~~~~\n",
      "\u001b[0m\u001b[0;32mstd::string\n",
      "\u001b[0m\u001b[1m/usr/include/c++/7/bits/stringfwd.h:74:33: \u001b[0m\u001b[0;1;30mnote: \u001b[0m'std::string' declared here\u001b[0m\n",
      "  typedef basic_string<char>    string;   \n",
      "\u001b[0;1;32m                                ^\n",
      "\u001b[0m\u001b[1minput_line_15:3:20: \u001b[0m\u001b[0;1;31merror: \u001b[0m\u001b[1mno template named 'vector'; did you mean 'std::vector'?\u001b[0m\n",
      "string randomItem( vector<string> && arr );         // returns random item in rvalue arr\n",
      "\u001b[0;1;32m                   ^~~~~~\n",
      "\u001b[0m\u001b[0;32m                   std::vector\n",
      "\u001b[0m\u001b[1m/usr/include/c++/7/bits/stl_vector.h:216:11: \u001b[0m\u001b[0;1;30mnote: \u001b[0m'std::vector' declared here\u001b[0m\n",
      "    class vector : protected _Vector_base<_Tp, _Alloc>\n",
      "\u001b[0;1;32m          ^\n",
      "\u001b[0m\u001b[1minput_line_15:3:27: \u001b[0m\u001b[0;1;31merror: \u001b[0m\u001b[1munknown type name 'string'; did you mean 'std::string'?\u001b[0m\n",
      "string randomItem( vector<string> && arr );         // returns random item in rvalue arr\n",
      "\u001b[0;1;32m                          ^~~~~~\n",
      "\u001b[0m\u001b[0;32m                          std::string\n",
      "\u001b[0m\u001b[1m/usr/include/c++/7/bits/stringfwd.h:74:33: \u001b[0m\u001b[0;1;30mnote: \u001b[0m'std::string' declared here\u001b[0m\n",
      "  typedef basic_string<char>    string;   \n",
      "\u001b[0;1;32m                                ^\n",
      "\u001b[0m\u001b[1minput_line_15:4:1: \u001b[0m\u001b[0;1;31merror: \u001b[0m\u001b[1mno template named 'vector'; did you mean 'std::vector'?\u001b[0m\n",
      "vector<string> v { \"hello\", \"world\" };\n",
      "\u001b[0;1;32m^~~~~~\n",
      "\u001b[0m\u001b[0;32mstd::vector\n",
      "\u001b[0m\u001b[1m/usr/include/c++/7/bits/stl_vector.h:216:11: \u001b[0m\u001b[0;1;30mnote: \u001b[0m'std::vector' declared here\u001b[0m\n",
      "    class vector : protected _Vector_base<_Tp, _Alloc>\n",
      "\u001b[0;1;32m          ^\n",
      "\u001b[0m\u001b[1minput_line_15:4:8: \u001b[0m\u001b[0;1;31merror: \u001b[0m\u001b[1munknown type name 'string'; did you mean 'std::string'?\u001b[0m\n",
      "vector<string> v { \"hello\", \"world\" };\n",
      "\u001b[0;1;32m       ^~~~~~\n",
      "\u001b[0m\u001b[0;32m       std::string\n",
      "\u001b[0m\u001b[1m/usr/include/c++/7/bits/stringfwd.h:74:33: \u001b[0m\u001b[0;1;30mnote: \u001b[0m'std::string' declared here\u001b[0m\n",
      "  typedef basic_string<char>    string;   \n",
      "\u001b[0;1;32m                                ^\n",
      "\u001b[0m\u001b[1minput_line_15:5:1: \u001b[0m\u001b[0;1;31merror: \u001b[0m\u001b[1muse of undeclared identifier 'cout'; did you mean 'std::cout'?\u001b[0m\n",
      "cout << randomItem( v ) << endl;                    // invokes lvalue method\n",
      "\u001b[0;1;32m^~~~\n",
      "\u001b[0m\u001b[0;32mstd::cout\n",
      "\u001b[0m\u001b[1m/usr/include/c++/7/iostream:61:18: \u001b[0m\u001b[0;1;30mnote: \u001b[0m'std::cout' declared here\u001b[0m\n",
      "  extern ostream cout;          /// Linked to standard output\n",
      "\u001b[0;1;32m                 ^\n",
      "\u001b[0m\u001b[1minput_line_15:5:28: \u001b[0m\u001b[0;1;31merror: \u001b[0m\u001b[1muse of undeclared identifier 'endl'; did you mean 'std::endl'?\u001b[0m\n",
      "cout << randomItem( v ) << endl;                    // invokes lvalue method\n",
      "\u001b[0;1;32m                           ^~~~\n",
      "\u001b[0m\u001b[0;32m                           std::endl\n",
      "\u001b[0m\u001b[1m/usr/include/c++/7/ostream:590:5: \u001b[0m\u001b[0;1;30mnote: \u001b[0m'std::endl' declared here\u001b[0m\n",
      "    endl(basic_ostream<_CharT, _Traits>& __os)\n",
      "\u001b[0;1;32m    ^\n",
      "\u001b[0m\u001b[1minput_line_15:6:1: \u001b[0m\u001b[0;1;31merror: \u001b[0m\u001b[1muse of undeclared identifier 'cout'; did you mean 'std::cout'?\u001b[0m\n",
      "cout << randomItem( { \"hello\", \"world\" } ) << endl; // invokes rvalue method\n",
      "\u001b[0;1;32m^~~~\n",
      "\u001b[0m\u001b[0;32mstd::cout\n",
      "\u001b[0m\u001b[1m/usr/include/c++/7/iostream:61:18: \u001b[0m\u001b[0;1;30mnote: \u001b[0m'std::cout' declared here\u001b[0m\n",
      "  extern ostream cout;          /// Linked to standard output\n",
      "\u001b[0;1;32m                 ^\n",
      "\u001b[0m\u001b[1minput_line_15:6:47: \u001b[0m\u001b[0;1;31merror: \u001b[0m\u001b[1muse of undeclared identifier 'endl'; did you mean 'std::endl'?\u001b[0m\n",
      "cout << randomItem( { \"hello\", \"world\" } ) << endl; // invokes rvalue method\n",
      "\u001b[0;1;32m                                              ^~~~\n",
      "\u001b[0m\u001b[0;32m                                              std::endl\n",
      "\u001b[0m\u001b[1m/usr/include/c++/7/ostream:590:5: \u001b[0m\u001b[0;1;30mnote: \u001b[0m'std::endl' declared here\u001b[0m\n",
      "    endl(basic_ostream<_CharT, _Traits>& __os)\n",
      "\u001b[0;1;32m    ^\n",
      "\u001b[0m"
     ]
    },
    {
     "ename": "Interpreter Error",
     "evalue": "",
     "output_type": "error",
     "traceback": [
      "Interpreter Error: "
     ]
    }
   ],
   "source": [
    "string randomItem( const vector<string> & arr );    // returns random item in lvalue arr\n",
    "string randomItem( vector<string> && arr );         // returns random item in rvalue arr\n",
    "vector<string> v { \"hello\", \"world\" };\n",
    "cout << randomItem( v ) << endl;                    // invokes lvalue method\n",
    "cout << randomItem( { \"hello\", \"world\" } ) << endl; // invokes rvalue method"
   ]
  },
  {
   "cell_type": "markdown",
   "metadata": {},
   "source": [
    "#### 1.5.4 Return Passing\n",
    "\n",
    "__Return-by-value__"
   ]
  },
  {
   "cell_type": "code",
   "execution_count": null,
   "metadata": {},
   "outputs": [],
   "source": [
    "double average( double a, double b );                  // returns average of a and b\n",
    "LargeType randomItem( const vector<LargeType> & arr ); // potentially inefficient\n",
    "vector<int> partialSum( const vector<int> & arr );     // efficient in C++11"
   ]
  },
  {
   "cell_type": "markdown",
   "metadata": {},
   "source": [
    "In all cases the result of the function call is an rvalue. However, the call to `randomItem` has potential inefficiencies. "
   ]
  },
  {
   "cell_type": "code",
   "execution_count": null,
   "metadata": {},
   "outputs": [],
   "source": [
    "LargeType randomItem1( const vector<LargeType> & arr )\n",
    "{\n",
    "    return arr[ randomInt( 0, arr.size( ) - 1 ) ];\n",
    "}\n",
    "\n",
    "const LargeType & randomItem2( const vector<LargeType> & arr )\n",
    "{\n",
    "    return arr[ randomInt( 0, arr.size( ) - 1 ) ];\n",
    "}\n",
    "\n",
    "    vector<LargeType> vec;\n",
    "    ...\n",
    "    LargeType item1 = randomItem1( vec ); // copy\n",
    "    LargeType item2 = randomItem2( vec ); // copy\n",
    "    const LargeType & item3 = randomItem2( vec ); // no copy"
   ]
  },
  {
   "cell_type": "markdown",
   "metadata": {},
   "source": [
    "First, consider two implementations of `randomItem`. The first implementation, shown\n",
    "in lines 1-4 uses return-by-value. As a result, the `LargeType` at the random array index will be copied as part of the return sequence. This copy is done because, in general, return expressions could be rvalues (e.g., return `x+4`) and hence will not logically exist by the time the function call returns at line 13. But in this case, the return type is an lvalue that will exist long after the function call returns, since `arr` is the same as `vec`. The second implementation shown at lines 6-9 takes advantage of this and uses __return-by-constant-reference__ to avoid an immediate copy. However, the caller must also use a constant reference to access the return value, as shown at line 15; otherwise, there will still be a copy. The constant reference signifies that we do not want to allow changes to be made by the caller by using the return value; in this case it is needed since `arr` itself is a non-modifiable vector. An alternative is to use `auto &` at line 15 to declare `item3`.\n",
    "\n",
    "In C++11, objects can define move semantics that can be employed when return-by-value is seen; in effect, the result `vector` will be moved to `sums`, and the `vector` implementation is optimized to allow this to be done with little more than a pointer change. This means that `partialSum` can be expected to avoid unnecessary copying and not need any changes."
   ]
  },
  {
   "cell_type": "code",
   "execution_count": null,
   "metadata": {},
   "outputs": [],
   "source": [
    "vector<int> partialSum( const vector<int> & arr )\n",
    "{\n",
    "    vector<int> result( arr.size( ) );\n",
    "\n",
    "    result[ 0 ] = arr[ 0 ];\n",
    "    for( int i = 1; i < arr.size( ); ++i )\n",
    "        result[ i ] = result[ i - 1 ] + arr[ i ];\n",
    "\n",
    "    return result;\n",
    "}\n",
    "\n",
    "    vector<int> vec;\n",
    "    ...\n",
    "    vector<int> sums = partialSum( vec ); // Copy in old C++; move in C++11"
   ]
  },
  {
   "cell_type": "markdown",
   "metadata": {},
   "source": [
    "In addition to the return-by-value and return-by-constant-reference idioms, functions\n",
    "can use __return-by-reference__. This idiom is used in a few places to allow the caller of a function to have modifiable access to the internal data representation of a class.\n",
    "\n",
    "#### 1.5.5 `std::swap` and `std::move`\n",
    "\n",
    "Throughout this section, we have discussed instances in which C++11 allows the programmer to easily replace expensive copies with moves. Yet another example of this is the implementation of a swap routine. However, it is easy to see that there is no need to copy; what we actually want is to do moves instead of copies. In C++11, if the right-hand side of the assignment operator (or constructor) is an rvalue, then if the object supports moving, we can automatically avoid copies. In other words, if `vector<string>` supports efficient moving, and if at line 10 `x` were an rvalue, then\n",
    "x could be moved into `tmp`; similarly, if `y` was an rvalue at line 11, then it could be moved in to `x`. vector does indeed support moving; however, `x`, `y`, and `tmp` are all lvalues at lines 10, 11, 12 (remember, if an object has a name, it is an lvalue). Figure 1.15 shows how this problem is solved; an implementation of swap at lines 1–6 shows that we can use a cast to treat the right-hand side of lines 10-12 as rvalues. The syntax of a static cast is daunting; fortunately, function std::move exists that converts any lvalue (or rvalue) into an rvalue. Note that the name is misleading; `std::move` doesn't move anything; rather, it makes a value subject to be moved. Use of `std::move` is also shown in a revised implementation of `swap` at lines 8–13 of Figure 1.15. The swap function `std::swap` is also part of the Standard Library and will work for any type.\n",
    "\n",
    "Figure 1.14 Swapping by three copies"
   ]
  },
  {
   "cell_type": "code",
   "execution_count": null,
   "metadata": {},
   "outputs": [],
   "source": [
    "void swap( double & x, double & y )\n",
    "{\n",
    "    double tmp = x;\n",
    "    x = y;\n",
    "    y = tmp;\n",
    "}\n",
    "\n",
    "void swap( vector<string> & x, vector<string> & y )\n",
    "{\n",
    "    vector<string> tmp = x;\n",
    "    x = y;\n",
    "    y = tmp;\n",
    "}"
   ]
  },
  {
   "cell_type": "markdown",
   "metadata": {},
   "source": [
    "Figure 1.15 Swapping by three moves; first with a type cast, second using `std::move`"
   ]
  },
  {
   "cell_type": "code",
   "execution_count": null,
   "metadata": {},
   "outputs": [],
   "source": [
    "void swap( vector<string> & x, vector<string> & y )\n",
    "{\n",
    "    vector<string> tmp = static_cast<vector<string> &&>( x );\n",
    "    x = static_cast<vector<string> &&>( y );\n",
    "    y = static_cast<vector<string> &&>( tmp );\n",
    "}\n",
    "\n",
    "void swap( vector<string> & x, vector<string> & y )\n",
    "{\n",
    "    vector<string> tmp = std::move( x );\n",
    "    x = std::move( y );\n",
    "    y = std::move( tmp );\n",
    "}"
   ]
  },
  {
   "cell_type": "markdown",
   "metadata": {},
   "source": [
    "#### 1.5.6 The Big-Five: Destructor, Copy Constructor, Move Constructor, Copy Assignment operator=, Move Assignment operator=\n",
    "\n",
    "In C++11, classes come with five special functions that are already written for you. These are the __destructor, copy constructor, move constructor, copy assignment operator, and move assignment operator__. Collectively these are the __big-five__. In many cases, you can accept the default behavior provided by the compiler for the big-five. Sometimes you cannot.\n",
    "\n",
    "##### Destructor\n",
    "The destructor is called whenever an object goes out of scope or is subjected to a `delete`.\n",
    "\n",
    "##### Copy Constructor and Move Constructor\n",
    "A copy constructor or move constructor is called in the following instances:\n",
    "- a declaration with initialization\n",
    "- an object passed using call-by-value (instead of by `&` or `const &`), should rarely be done anyway.\n",
    "- an object returned by value (instead of by `&` or `const &`).\n",
    "\n",
    "##### Copy Assignment and Move Assignment (`operator=`)\n",
    "The assignment operator is called when `=` is applied to two objects that have both been previously constructed. `lhs=rhs` is intended to copy the state of `rhs` into `lhs`.\n",
    "\n",
    "##### Defaults\n",
    "A class whose data members are `int`, `double`, `vector<int>`, `string`, and even `vector<string>` can accept the defaults.\n",
    "\n",
    "Suppose the class contains a single data member that is a pointer. This pointer points at a dynamically allocated object. The default destructor does nothing to data members that are pointers (for good reason-recall that we must `delete` ourselves). Furthermore, the copy constructor and copy assignment operator both copy the value of\n",
    "the pointer rather than the objects being pointed at. Thus, we will have two class instances that contain pointers that point to the same object. This is a so-called __shallow copy__. Typically, we would expect a __deep copy__, in which a clone of the entire object is made. Thus, as a result, when a class contains pointers as data members, and deep semantics are important, we typically must implement the destructor, copy assignment, and copy constructors ourselves. Doing so removes the move defaults, so we also must implement move assignment and the move constructor. As a general rule, either you accept the default for all five operations, or you should declare all five, and explicitly define, default (use the keyword `default`), or disallow each (use the keyword `delete`). Generally we will define all five."
   ]
  },
  {
   "cell_type": "code",
   "execution_count": null,
   "metadata": {},
   "outputs": [],
   "source": [
    "~IntCell( );                                 // Destructor\n",
    "IntCell( const IntCell & rhs );              // Copy constructor\n",
    "IntCell( IntCell && rhs );                   // Move constructor\n",
    "IntCell & operator= ( const IntCell & rhs ); // Copy assignment\n",
    "IntCell & operator= ( IntCell && rhs );      // Move assignment"
   ]
  },
  {
   "cell_type": "markdown",
   "metadata": {},
   "source": [
    "##### When the Defaults Do Not Work\n",
    "\n",
    "Data member is a pointer; big-five is written:"
   ]
  },
  {
   "cell_type": "code",
   "execution_count": null,
   "metadata": {},
   "outputs": [],
   "source": [
    "class IntCell\n",
    "{\n",
    "    public:\n",
    "        explicit IntCell( int initialValue = 0 )\n",
    "            { storedValue = new int{ initialValue }; }\n",
    "    \n",
    "        ~IntCell( )                                    // Destructor\n",
    "            { delete storedValue; }\n",
    "\n",
    "        IntCell( const IntCell & rhs )                 // Copy constructor\n",
    "            { storedValue = new int{ *rhs.storedValue }; }\n",
    "\n",
    "        IntCell( IntCell && rhs ) : storedValue{ rhs.storedValue } // Move constructor\n",
    "            { rhs.storedValue = nullptr; }\n",
    "\n",
    "        IntCell & operator= ( const IntCell & rhs ) // Copy assignment\n",
    "        {\n",
    "            if( this != &rhs )\n",
    "                *storedValue = *rhs.storedValue;\n",
    "            return *this;\n",
    "        }\n",
    "\n",
    "        IntCell & operator= ( IntCell && rhs ) // Move assignment\n",
    "        {\n",
    "            std::swap( storedValue, rhs.storedValue );\n",
    "            return *this;\n",
    "        }\n",
    "\n",
    "        int read( ) const\n",
    "            { return *storedValue; }\n",
    "        void write( int x )\n",
    "            { *storedValue = x; }\n",
    "\n",
    "    private:\n",
    "        int *storedValue;\n",
    "};"
   ]
  },
  {
   "cell_type": "markdown",
   "metadata": {},
   "source": [
    "#### 1.5.7 C-style Arrays and Strings\n",
    "\n",
    ">`int arr1[ 10 ];`\n",
    "\n",
    "`arr1` is actually a pointer to memory that is large enough to store 10 `ints`, rather than a first-class array type. Applying `=` to arrays is thus an attempt to copy two pointer values rather than the entire array, and with the declaration above, it is illegal, because `arr1` is a constant pointer. When `arr1` is passed to a function, only the value of the pointer is passed; information about the size of the array is lost. Thus, the size must be passed as an additional parameter. There is no index range checking, since the size is unknown.\n",
    "\n",
    "In the declaration above, the size of the array must be known at compile time. A\n",
    "variable cannot replace 10. If the size is unknown, we must explicitly declare a pointer and allocate memory via 1new[]1. For instance,\n",
    ">`int *arr2 = new int[ n ];`\n",
    "\n",
    "Now `arr2` behaves like `arr1`, except that it is not a constant pointer. Thus, it can be made to point at a larger block of memory. However, because memory has been dynamically allocated, at some point it must be freed with `delete[]`:\n",
    ">`delete [ ] arr2;`\n",
    "\n",
    "Otherwise, a memory leak will result, and the leak could be significant if the array is large.\n",
    "\n",
    "Built-in C-style strings are implemented as an array of characters. To avoid having to\n",
    "pass the length of the string, the special null-terminator `'\\0'` is used as a character that signals the logical end of the string. Strings are copied by `strcpy`, compared with `strcmp`, and their length can be determined by `strlen`. \n",
    "\n",
    "### 1.6 Templates\n",
    "Type-independent algorithms (generic algorithms) are written in C++ using the __template__. \n",
    "\n",
    "#### 1.6.1 Function Templates\n",
    "\n",
    "It should be noted that an expansion for each new type generates additional code; this is known as __code bloat__ when it occurs in large projects. "
   ]
  },
  {
   "cell_type": "code",
   "execution_count": null,
   "metadata": {},
   "outputs": [],
   "source": [
    "/**\n",
    "* Return the maximum item in array a.\n",
    "* Assumes a.size( ) > 0.\n",
    "* Comparable objects must provide operator< and operator=\n",
    "*/\n",
    "template <typename Comparable>\n",
    "const Comparable & findMax( const vector<Comparable> & a )\n",
    "{\n",
    "    int maxIndex = 0;\n",
    "\n",
    "    for( int i = 1; i < a.size( ); ++i )\n",
    "        if( a[ maxIndex ] < a[ i ] )\n",
    "            maxIndex = i;\n",
    "    return a[ maxIndex ];\n",
    "}"
   ]
  },
  {
   "cell_type": "markdown",
   "metadata": {},
   "source": [
    "#### 1.6.2 Class Templates\n",
    "\n",
    "`MemoryCell` is like the `IntCell` class, but works for any type `Object`, provided that `Object` has a zero-parameter constructor, a copy constructor, and a copy assignment operator.\n",
    "\n",
    "Notice that `Object` is passed by constant reference. The default parameter for the constructor is the result of constructing an `Object` with its zero-parameter constructor.\n",
    "\n",
    "Popular implementations of the STL follow this strategy, the entire class, with its implementation, must be placed in a `.h` file. "
   ]
  },
  {
   "cell_type": "code",
   "execution_count": null,
   "metadata": {},
   "outputs": [],
   "source": [
    "/**\n",
    "* A class for simulating a memory cell.\n",
    "*/\n",
    "template <typename Object>\n",
    "class MemoryCell\n",
    "{\n",
    "    public:\n",
    "        explicit MemoryCell( const Object & initialValue = Object{ } )\n",
    "            : storedValue{ initialValue } { }\n",
    "        const Object & read( ) const\n",
    "            { return storedValue; }\n",
    "        void write( const Object & x )\n",
    "            { storedValue = x; }\n",
    "    private:\n",
    "        Object storedValue;\n",
    "};"
   ]
  },
  {
   "cell_type": "markdown",
   "metadata": {},
   "source": [
    "#### 1.6.3 `Object`, `Comparable`, and an Example\n",
    "\n",
    "`Object` is assumed to have a zero-parameter constructor, an `operator=`, and a copy constructor. `Comparable`,  has additional functionality in the form of `operator<` that can be used to provide a total order.\n",
    "\n",
    "__Operator overloading__ allows us to define the meaning of a built-in operator. \n"
   ]
  },
  {
   "cell_type": "code",
   "execution_count": 16,
   "metadata": {},
   "outputs": [
    {
     "name": "stderr",
     "output_type": "stream",
     "text": [
      "\u001b[1minput_line_37:15:33: \u001b[0m\u001b[0;1;31merror: \u001b[0m\u001b[1muse of overloaded operator '<<' is ambiguous (with operand types\n",
      "      'basic_ostream<char, std::char_traits<char> >' and 'double')\u001b[0m\n",
      "            { out << \"(square \" << getSide( ) << \")\"; }\n",
      "\u001b[0;1;32m              ~~~~~~~~~~~~~~~~~ ^  ~~~~~~~~~~\n",
      "\u001b[0m\u001b[1m/usr/include/c++/7/ostream:166:7: \u001b[0m\u001b[0;1;30mnote: \u001b[0mcandidate function\u001b[0m\n",
      "      operator<<(long __n)\n",
      "\u001b[0;1;32m      ^\n",
      "\u001b[0m\u001b[1m/usr/include/c++/7/ostream:170:7: \u001b[0m\u001b[0;1;30mnote: \u001b[0mcandidate function\u001b[0m\n",
      "      operator<<(unsigned long __n)\n",
      "\u001b[0;1;32m      ^\n",
      "\u001b[0m\u001b[1m/usr/include/c++/7/ostream:174:7: \u001b[0m\u001b[0;1;30mnote: \u001b[0mcandidate function\u001b[0m\n",
      "      operator<<(bool __n)\n",
      "\u001b[0;1;32m      ^\n",
      "\u001b[0m\u001b[1m/usr/include/c++/7/ostream:178:7: \u001b[0m\u001b[0;1;30mnote: \u001b[0mcandidate function\u001b[0m\n",
      "      operator<<(short __n);\n",
      "\u001b[0;1;32m      ^\n",
      "\u001b[0m\u001b[1m/usr/include/c++/7/ostream:181:7: \u001b[0m\u001b[0;1;30mnote: \u001b[0mcandidate function\u001b[0m\n",
      "      operator<<(unsigned short __n)\n",
      "\u001b[0;1;32m      ^\n",
      "\u001b[0m\u001b[1m/usr/include/c++/7/ostream:189:7: \u001b[0m\u001b[0;1;30mnote: \u001b[0mcandidate function\u001b[0m\n",
      "      operator<<(int __n);\n",
      "\u001b[0;1;32m      ^\n",
      "\u001b[0m\u001b[1m/usr/include/c++/7/ostream:192:7: \u001b[0m\u001b[0;1;30mnote: \u001b[0mcandidate function\u001b[0m\n",
      "      operator<<(unsigned int __n)\n",
      "\u001b[0;1;32m      ^\n",
      "\u001b[0m\u001b[1m/usr/include/c++/7/ostream:201:7: \u001b[0m\u001b[0;1;30mnote: \u001b[0mcandidate function\u001b[0m\n",
      "      operator<<(long long __n)\n",
      "\u001b[0;1;32m      ^\n",
      "\u001b[0m\u001b[1m/usr/include/c++/7/ostream:205:7: \u001b[0m\u001b[0;1;30mnote: \u001b[0mcandidate function\u001b[0m\n",
      "      operator<<(unsigned long long __n)\n",
      "\u001b[0;1;32m      ^\n",
      "\u001b[0m\u001b[1m/usr/include/c++/7/ostream:224:7: \u001b[0m\u001b[0;1;30mnote: \u001b[0mcandidate function\u001b[0m\n",
      "      operator<<(float __f)\n",
      "\u001b[0;1;32m      ^\n",
      "\u001b[0m\u001b[1m/usr/include/c++/7/ostream:232:7: \u001b[0m\u001b[0;1;30mnote: \u001b[0mcandidate function\u001b[0m\n",
      "      operator<<(long double __f)\n",
      "\u001b[0;1;32m      ^\n",
      "\u001b[0m\u001b[1m/usr/include/c++/7/ostream:508:5: \u001b[0m\u001b[0;1;30mnote: \u001b[0mcandidate function [with _Traits = std::char_traits<char>]\u001b[0m\n",
      "    operator<<(basic_ostream<char, _Traits>& __out, char __c)\n",
      "\u001b[0;1;32m    ^\n",
      "\u001b[0m\u001b[1m/usr/include/c++/7/ostream:502:5: \u001b[0m\u001b[0;1;30mnote: \u001b[0mcandidate function [with _CharT = char, _Traits = std::char_traits<char>]\u001b[0m\n",
      "    operator<<(basic_ostream<_CharT, _Traits>& __out, char __c)\n",
      "\u001b[0;1;32m    ^\n",
      "\u001b[0m\u001b[1m/usr/include/c++/7/ostream:514:5: \u001b[0m\u001b[0;1;30mnote: \u001b[0mcandidate function [with _Traits = std::char_traits<char>]\u001b[0m\n",
      "    operator<<(basic_ostream<char, _Traits>& __out, signed char __c)\n",
      "\u001b[0;1;32m    ^\n",
      "\u001b[0m\u001b[1m/usr/include/c++/7/ostream:519:5: \u001b[0m\u001b[0;1;30mnote: \u001b[0mcandidate function [with _Traits = std::char_traits<char>]\u001b[0m\n",
      "    operator<<(basic_ostream<char, _Traits>& __out, unsigned char __c)\n",
      "\u001b[0;1;32m    ^\n",
      "\u001b[0m\u001b[1minput_line_37:23:1: \u001b[0m\u001b[0;1;31merror: \u001b[0m\u001b[1mfunction definition is not allowed here\u001b[0m\n",
      "{\n",
      "\u001b[0;1;32m^\n",
      "\u001b[0m\u001b[1minput_line_37:28:1: \u001b[0m\u001b[0;1;31merror: \u001b[0m\u001b[1mfunction definition is not allowed here\u001b[0m\n",
      "{\n",
      "\u001b[0;1;32m^\n",
      "\u001b[0m"
     ]
    },
    {
     "ename": "Interpreter Error",
     "evalue": "",
     "output_type": "error",
     "traceback": [
      "Interpreter Error: "
     ]
    }
   ],
   "source": [
    "#include <iostream>\n",
    "#include <ostream>\n",
    "\n",
    "using namespace std;\n",
    "\n",
    "class Square\n",
    "{\n",
    "    public:\n",
    "        explicit Square( double s = 0.0 ) : side{ s }\n",
    "            { }\n",
    "\n",
    "        double getSide( ) const\n",
    "            { return side; }\n",
    "        double getArea( ) const\n",
    "            { return side * side; }\n",
    "        double getPerimeter( ) const\n",
    "            { return 4 * side; }\n",
    "\n",
    "        void print( ostream & out = cout ) const\n",
    "            { out << \"(square \" << getSide( ) << \")\"; }\n",
    "        bool operator< ( const Square & rhs ) const\n",
    "            { return getSide( ) < rhs.getSide( ); }\n",
    "\n",
    "    private:\n",
    "        double side;\n",
    "};\n",
    "\n",
    "// Define an output operator for Square\n",
    "ostream & operator<< ( ostream & out, const Square & rhs )\n",
    "{\n",
    "    rhs.print( out );\n",
    "    return out;\n",
    "}\n",
    "\n",
    "int main( )\n",
    "{\n",
    "    vector<Square> v = { Square{ 3.0 }, Square{ 2.0 }, Square{ 2.5 } };\n",
    "\n",
    "    cout << \"Largest square: \" << findMax( v ) << endl;\n",
    "\n",
    "    return 0;\n",
    "}"
   ]
  },
  {
   "cell_type": "markdown",
   "metadata": {},
   "source": [
    "#### 1.6.4 Function Objects\n",
    "\n",
    "We can define a class with no data and one member function, and pass an instance of the class. In effect, a function is being passed by placing it inside an object. This object is commonly known as a __function object__.\n",
    "\n",
    "#### 1.6.5 Separate Compilation of Class Templates\n",
    "\n",
    "### 1.7 Using Matrices\n",
    "\n",
    "The basic idea is to use a vector of vectors. Doing this requires additional knowledge of operator overloading. For the `matrix`, we define `operator[]`, namely, the array-indexing operator. \n",
    "\n",
    "#### 1.7.1 The Data Members, Constructor, and Basic Accessors"
   ]
  },
  {
   "cell_type": "code",
   "execution_count": null,
   "metadata": {},
   "outputs": [],
   "source": [
    "#ifndef MATRIX_H\n",
    "#define MATRIX_H\n",
    "\n",
    "#include <vector>\n",
    "using namespace std;\n",
    "\n",
    "template <typename Object>\n",
    "class matrix\n",
    "{\n",
    "    public:\n",
    "        matrix( int rows, int cols ) : array( rows )\n",
    "        {\n",
    "            for( auto & thisRow : array )\n",
    "                thisRow.resize( cols );\n",
    "        }\n",
    "\n",
    "        matrix( vector<vector<Object>> v ) : array{ v }\n",
    "            { }\n",
    "        matrix( vector<vector<Object>> && v ) : array{ std::move( v ) }\n",
    "            { }\n",
    "\n",
    "        const vector<Object> & operator[]( int row ) const\n",
    "            { return array[ row ]; }\n",
    "        vector<Object> & operator[]( int row )\n",
    "            { return array[ row ]; }\n",
    "\n",
    "        int numrows( ) const\n",
    "            { return array.size( ); }\n",
    "        int numcols( ) const\n",
    "            { return numrows( ) ? array[ 0 ].size( ) : 0; }\n",
    "    private:\n",
    "        vector<vector<Object>> array;\n",
    "};\n",
    "#endif"
   ]
  },
  {
   "cell_type": "markdown",
   "metadata": {},
   "source": [
    "#### 1.7.2 `operator[]`\n",
    "\n",
    "So what we really need is for `operator[]` to return a constant reference for `from`, but a plain reference for `to`. In other words, we need two versions of `operator[]`, which differ only in their return types. Since member function const-ness (i.e., whether a function is an accessor or a mutator) is part of the signature, we can have the accessor version of operator[] return a constant reference, and have the mutator version return the simple reference."
   ]
  },
  {
   "cell_type": "code",
   "execution_count": null,
   "metadata": {},
   "outputs": [],
   "source": [
    "void copy( const matrix<int> & from, matrix<int> & to )\n",
    "{\n",
    "    for( int i = 0; i < to.numrows( ); ++i )\n",
    "        to[ i ] = from[ i ];\n",
    "}"
   ]
  },
  {
   "cell_type": "markdown",
   "metadata": {},
   "source": [
    "#### 1.7.3 Big-Five\n",
    "\n",
    "These are all taken care of automatically, because the vector has taken care of it."
   ]
  }
 ],
 "metadata": {
  "kernelspec": {
   "display_name": "C++11",
   "language": "C++11",
   "name": "xeus-cling-cpp11"
  },
  "language_info": {
   "codemirror_mode": "text/x-c++src",
   "file_extension": ".cpp",
   "mimetype": "text/x-c++src",
   "name": "c++",
   "version": "-std=c++11"
  }
 },
 "nbformat": 4,
 "nbformat_minor": 2
}
