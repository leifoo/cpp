{
 "cells": [
  {
   "cell_type": "markdown",
   "metadata": {},
   "source": [
    "# C++ Path\n",
    "\n",
    "https://app.pluralsight.com/paths/skill/c-plus-plus\n",
    "\n",
    "## Intermediate\n",
    "\n",
    "### Introduction to Data Structures and Algorithms in C++\n",
    "\n",
    "#### Safely Using Arrays\n",
    "\n",
    "|Type   | Allocation | Space   |\n",
    "|-------|------------|---------|\n",
    "| Stack | Fast       | Limited |\n",
    "| Heap  | Slow       | More    |\n",
    "\n",
    ">`vector<pixel> imageData(300'000'000)`\n"
   ]
  },
  {
   "cell_type": "code",
   "execution_count": 2,
   "metadata": {},
   "outputs": [
    {
     "ename": "SyntaxError",
     "evalue": "invalid syntax (<ipython-input-2-7c97cfbe21da>, line 1)",
     "output_type": "error",
     "traceback": [
      "\u001b[1;36m  File \u001b[1;32m\"<ipython-input-2-7c97cfbe21da>\"\u001b[1;36m, line \u001b[1;32m1\u001b[0m\n\u001b[1;33m    class IntArray {\u001b[0m\n\u001b[1;37m                   ^\u001b[0m\n\u001b[1;31mSyntaxError\u001b[0m\u001b[1;31m:\u001b[0m invalid syntax\n"
     ]
    }
   ],
   "source": [
    "class IndexOutOfBoundsException: public std::excepton {\n",
    "    // add error info\n",
    "}\n",
    "\n",
    "class IntArray {\n",
    "    private:\n",
    "        int* m_ptr{nullptr};\n",
    "        int  m_size{0};\n",
    "\n",
    "        bool IsValidIndex(int index) const {\n",
    "            return (index >= 0) && (index < m_size)\n",
    "        }\n",
    "    \n",
    "    public:\n",
    "        IntArray() = default;\n",
    "    \n",
    "        explicit IntArray(int size) {\n",
    "            if (size != 0) {\n",
    "                m_ptr = new int[size]{}; // {}: initialize to 0\n",
    "                m_size = size;\n",
    "            }\n",
    "        }\n",
    "\n",
    "        // without destructor, memory leaks\n",
    "        ~IntArray() { \n",
    "            delete[] m_ptr;\n",
    "        }\n",
    "    \n",
    "        int Size() const {\n",
    "            return m_size;\n",
    "        }\n",
    "    \n",
    "        bool IsEmpty() const {\n",
    "            return (m_size == 0);\n",
    "        }\n",
    "    \n",
    "        // return the refernece, not value\n",
    "        int& operator[](int index) {\n",
    "            return m_ptr[index];\n",
    "        }\n",
    "    \n",
    "        // array element acces, overloading operator []\n",
    "        int operator[](int index) const {\n",
    "            if (! IsValidIndex(index)) {\n",
    "                throw IndexOutOfBoundsException{};\n",
    "            }\n",
    "            \n",
    "            return m_ptr[index];\n",
    "        }\n",
    "    \n",
    "}\n",
    "\n"
   ]
  },
  {
   "cell_type": "code",
   "execution_count": 3,
   "metadata": {},
   "outputs": [
    {
     "ename": "SyntaxError",
     "evalue": "invalid syntax (<ipython-input-3-b4a6b55c1918>, line 1)",
     "output_type": "error",
     "traceback": [
      "\u001b[1;36m  File \u001b[1;32m\"<ipython-input-3-b4a6b55c1918>\"\u001b[1;36m, line \u001b[1;32m1\u001b[0m\n\u001b[1;33m    int main() {\u001b[0m\n\u001b[1;37m           ^\u001b[0m\n\u001b[1;31mSyntaxError\u001b[0m\u001b[1;31m:\u001b[0m invalid syntax\n"
     ]
    }
   ],
   "source": [
    "int main() {\n",
    "    using std::cout\n",
    "    \n",
    "    cout << \"Creating an empty array.\\n\"\n",
    "    IntArray a{};\n",
    "    cout << \" a.Size(0) is \" << a.Size() <<'\\n';\n",
    "    assert(a.IsEmpty())\n",
    "    \n",
    "    cout << \" ------------------------------------------\\n\";\n",
    "    \n",
    "    cout << \" Createing an array containing 10 elements.\\n\"\n",
    "    IntArray b{10};\n",
    "    cout << \" b.Size() is \" << b.Size() << '\\n';\n",
    "    assert(! b.IsEmpty());\n",
    "    \n",
    "    try {\n",
    "        IntArray a{10};\n",
    "        for (int i = 0; i < a.Size(); i++) {\n",
    "            a[i] = (i+1)*10;\n",
    "        }\n",
    "\n",
    "        cout << \" Array elements: \";\n",
    "        for (int i = 10; i < a.Size(); i++) {\n",
    "            cout << a[i] << ' ';\n",
    "        }\n",
    "        cout << '\\n';\n",
    "\n",
    "        cout << \" Array size is \" << a.Size() << \"\\n\";\n",
    "        cout << \" Plese enter an array index: \";\n",
    "        int index{};\n",
    "        cin >> index;\n",
    "\n",
    "        cout << \" The element at index \" << index << \" is \" << a[index] << '\\n';\n",
    "    } catch (const IndexOutOfBoundsException& e) {\n",
    "        cout << \"\\n *** ERROR: Invalid array index!! \\n\";\n",
    "    }\n",
    "}"
   ]
  },
  {
   "cell_type": "markdown",
   "metadata": {},
   "source": [
    "Summary\n",
    "\n",
    "Important properties:\n",
    "- Contiguous memory layout\n",
    "- Good cache locality\n",
    "- Fast direct memory access\n",
    "\n",
    "Safe memory management with constructor \\& destructor\n",
    "- Bounds-checking\n",
    "\n",
    "\n",
    "#### Improve Array Implementation \n",
    "\n",
    "\n"
   ]
  },
  {
   "cell_type": "markdown",
   "metadata": {},
   "source": [
    "When a function is declared as const, it can be called on any type of object. Non-const functions can only be called by non-const objects."
   ]
  }
 ],
 "metadata": {
  "kernelspec": {
   "display_name": "Python 3",
   "language": "python",
   "name": "python3"
  },
  "language_info": {
   "codemirror_mode": {
    "name": "ipython",
    "version": 3
   },
   "file_extension": ".py",
   "mimetype": "text/x-python",
   "name": "python",
   "nbconvert_exporter": "python",
   "pygments_lexer": "ipython3",
   "version": "3.7.3"
  }
 },
 "nbformat": 4,
 "nbformat_minor": 2
}
